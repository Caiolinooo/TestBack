{
  "cells": [
    {
      "cell_type": "code",
      "execution_count": 2,
      "metadata": {
        "id": "VjYy0F2gZIPR",
        "colab": {
          "base_uri": "https://localhost:8080/"
        },
        "outputId": "e487ceee-21f7-4fb9-ae4a-dc8ec85cf3c1"
      },
      "outputs": [
        {
          "output_type": "stream",
          "name": "stdout",
          "text": [
            "/content\n",
            "/content/Fooocus\n",
            "/content/Fooocus/models\n",
            "/content/Fooocus/models/checkpoints\n",
            "juggernautXL_v8Rundiffusion.safetensors  put_checkpoints_here\n",
            "--2025-07-23 20:45:58--  https://civitai.com/api/download/models/1220452?type=Model\n",
            "Resolving civitai.com (civitai.com)... 172.66.152.186, 104.20.38.219, 2606:4700:10::6814:26db, ...\n",
            "Connecting to civitai.com (civitai.com)|172.66.152.186|:443... connected.\n",
            "HTTP request sent, awaiting response... 401 Unauthorized\n",
            "\n",
            "Username/Password Authentication Failed.\n",
            "/content/Fooocus/models\n",
            "/content/Fooocus\n"
          ]
        }
      ],
      "source": [
        "#!pip install pygit2==1.15.1\n",
        "%cd /content\n",
        "#!git clone https://github.com/lllyasviel/Fooocus.git\n",
        "%cd /content/Fooocus\n",
        "%cd models\n",
        "%cd checkpoints\n",
        "!wget https://civitai.com/api/download/models/1220452?type=Model&format=SafeTensor\n",
        "%cd ..\n",
        "%cd ..\n",
        "#!python entry_with_update.py --share --always-high-vram\n"
      ]
    },
    {
      "cell_type": "code",
      "source": [],
      "metadata": {
        "id": "2Kw1b6jfCR4p"
      },
      "execution_count": null,
      "outputs": []
    }
  ],
  "metadata": {
    "accelerator": "GPU",
    "colab": {
      "gpuType": "T4",
      "provenance": []
    },
    "kernelspec": {
      "display_name": "Python 3",
      "name": "python3"
    },
    "language_info": {
      "name": "python"
    }
  },
  "nbformat": 4,
  "nbformat_minor": 0
}